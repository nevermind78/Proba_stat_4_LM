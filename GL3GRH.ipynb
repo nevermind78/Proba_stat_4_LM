{
  "cells": [
    {
      "cell_type": "markdown",
      "metadata": {
        "id": "view-in-github",
        "colab_type": "text"
      },
      "source": [
        "<a href=\"https://colab.research.google.com/github/nevermind78/Proba_stat_4_LM/blob/master/GL3GRH.ipynb\" target=\"_parent\"><img src=\"https://colab.research.google.com/assets/colab-badge.svg\" alt=\"Open In Colab\"/></a>"
      ]
    },
    {
      "cell_type": "markdown",
      "metadata": {
        "id": "jVzHu8zNSKmE"
      },
      "source": [
        "\n",
        "<h1 style=\"border:2px solid Tomato;\">Examen Python 2022 session Principale</h1>\n",
        "<h1 style=\"border:2px solid DodgerBlue;\">Problème</h1>\n"
      ]
    },
    {
      "cell_type": "markdown",
      "metadata": {
        "id": "a0BfthJeSKmG"
      },
      "source": [
        "\n",
        "<p>On se propose de crypter un message, formé uniquement par des lettres majuscules et des espaces, en utilisant la méthode de chiffrement de Polybe qui consiste à :</p>\n",
        "<ul ><li><i  >&nbsp;</i>Ranger, dans une matrice carrée de dimension 5x5, les lettres d’un mot-clé donné suivies des lettres restantes de l’alphabet dans l’ordre, à l’exception de la lettre ‘W’.</li><li><i  >&nbsp;</i>Le mot-clé est une chaine de caractères formée uniquement de L lettres majuscules, sans doublons et ne contenant pas la lettre ‘W’ (avec 3&lt;=L&lt;=10).</li><li><i  >&nbsp;</i>Remplacer chaque lettre du message à crypter par les coordonnées de sa position dans la matrice (le numéro de la ligne suivi du numéro de la colonnes), sachant que :<ul  ><li><i  >&nbsp;</i>Le caractère espace ne subit aucun cryptage ;</li><li><i  >&nbsp;</i>La lettre ‘W’ sera remplacée par les coordonnées de la lettre ‘00’</li></ul></li></ul>\n"
      ]
    },
    {
      "cell_type": "markdown",
      "metadata": {
        "id": "dmD_eCQ2SKmG"
      },
      "source": [
        "<p>Pour le mot-clé MYSTER, on construit la matrice suivante :</p>\n",
        "<center>\n",
        "<table class=\"table table-bordered table-striped\" ><tbody><tr><td width=\"28\"><br></td><td width=\"28\">1</td><td width=\"28\">2</td><td width=\"28\">3</td><td width=\"28\">4</td><td width=\"28\">5</td></tr><tr><td width=\"28\">1</td><td width=\"28\">M</td><td width=\"28\">Y</td><td width=\"28\">S</td><td width=\"28\">T</td><td width=\"28\">E</td></tr><tr><td width=\"28\">2</td><td width=\"28\">R</td><td width=\"28\">A</td><td width=\"28\">B</td><td width=\"28\">C</td><td width=\"28\">D</td></tr><tr><td width=\"28\">3</td><td width=\"28\">F</td><td width=\"28\">G</td><td width=\"28\">H</td><td width=\"28\">I</td><td width=\"28\">J</td></tr><tr><td width=\"28\">4</td><td width=\"28\">K</td><td width=\"28\">L</td><td width=\"28\">N</td><td width=\"28\">O</td><td width=\"28\">P</td></tr><tr><td width=\"28\">5</td><td width=\"28\">Q</td><td width=\"28\">U</td><td width=\"28\">V</td><td width=\"28\">X</td><td width=\"28\">Z</td></tr></tbody></table>\n",
        "</center>\n",
        "<p>Le cryptage du message ‘CHERCHER POLYBE DANS WIKIPEDIA’ sera :</p>\n",
        "<p>‘2433152124331521_454442122315_25224313_003441344515253422’ ou le mot ‘WIKIPEDIA’ est crypté comme suit : ‘003441344515253422’ car ‘W’ remplacé par ‘00’, 'I' est remplacé par ‘34’, ‘K’ est remplacé par ‘41’, ‘P’ est remplacé par ‘45’, ‘E’ est remplacé par ‘15’, ‘D’ est remplacé par ‘25’ et ‘A’ est remplacé par ‘22’.</p>"
      ]
    },
    {
      "cell_type": "markdown",
      "metadata": {
        "id": "a_C8FQ48SKmH"
      },
      "source": [
        "<p><strong><em>Travail demandé</em></strong></p>\n",
        "<ol><li>Ecrire une fonction Python <strong>Crypter_Polybe(message, motcle)</strong>, qui permet de crypter un message donné selon le mot-clé en respectant les contraintes cités ci-dessus selon la méthode de chiffrement de Polybe.</li><li>Ecrire une fonction <strong>Decrypter_Polybe(message, motcle)</strong>, qui permet de décrypter le message donné selon le mot-clé et le chiffrement de Polybe.</li></ol>"
      ]
    },
    {
      "cell_type": "code",
      "execution_count": null,
      "metadata": {
        "id": "fb-DWWeSSKmH"
      },
      "outputs": [],
      "source": [
        "import string"
      ]
    },
    {
      "cell_type": "code",
      "execution_count": null,
      "metadata": {
        "id": "U55-xSB4SKmI"
      },
      "outputs": [],
      "source": [
        "alphabet=string.ascii_uppercase"
      ]
    },
    {
      "cell_type": "code",
      "execution_count": null,
      "metadata": {
        "id": "L9jw9H0SSKmI"
      },
      "outputs": [],
      "source": [
        "''.join(list(filter(lambda x:x!='W',alphabet)))"
      ]
    },
    {
      "cell_type": "code",
      "execution_count": null,
      "metadata": {
        "id": "bKKiL_MrSKmI"
      },
      "outputs": [],
      "source": [
        "alphabet='ABCDEFGHIJKLMNOPQRSTUVXYZ'"
      ]
    },
    {
      "cell_type": "markdown",
      "source": [
        "$$M=\\begin{pmatrix}1&2&3\\\\4&5&6\\\\7&8&9 \\end{pmatrix}$$"
      ],
      "metadata": {
        "id": "rLNQ6GxCEMmp"
      }
    },
    {
      "cell_type": "code",
      "source": [
        "M=[[1,2,3],[4,5,6],[7,8,9]]"
      ],
      "metadata": {
        "id": "wnAekkueSZG1"
      },
      "execution_count": null,
      "outputs": []
    },
    {
      "cell_type": "code",
      "source": [
        "M[1][2]"
      ],
      "metadata": {
        "id": "Zg5iF7ybSZJs",
        "outputId": "903ea8ee-647c-4bfe-a661-8acc32877e13",
        "colab": {
          "base_uri": "https://localhost:8080/"
        }
      },
      "execution_count": null,
      "outputs": [
        {
          "output_type": "execute_result",
          "data": {
            "text/plain": [
              "6"
            ]
          },
          "metadata": {},
          "execution_count": 16
        }
      ]
    },
    {
      "cell_type": "code",
      "source": [
        "M=[[0]*5]*5 # A NE PAS FAIRE"
      ],
      "metadata": {
        "id": "iCHDm8e6SZMW"
      },
      "execution_count": null,
      "outputs": []
    },
    {
      "cell_type": "code",
      "source": [
        "M"
      ],
      "metadata": {
        "id": "3E6-zC_GSZPO",
        "outputId": "0fd010e9-f3be-402a-dab2-669c8eca1b67",
        "colab": {
          "base_uri": "https://localhost:8080/"
        }
      },
      "execution_count": null,
      "outputs": [
        {
          "output_type": "execute_result",
          "data": {
            "text/plain": [
              "[[0, 0, 0, 0, 0],\n",
              " [0, 0, 0, 0, 0],\n",
              " [0, 0, 0, 0, 0],\n",
              " [0, 0, 0, 0, 0],\n",
              " [0, 0, 0, 0, 0]]"
            ]
          },
          "metadata": {},
          "execution_count": 18
        }
      ]
    },
    {
      "cell_type": "code",
      "source": [
        "M[0][0]=2023\n",
        "M"
      ],
      "metadata": {
        "id": "eZTodnIVSZR9",
        "outputId": "1779e3bb-79bc-4e9c-d67f-e57408770e89",
        "colab": {
          "base_uri": "https://localhost:8080/"
        }
      },
      "execution_count": null,
      "outputs": [
        {
          "output_type": "execute_result",
          "data": {
            "text/plain": [
              "[[2023, 0, 0, 0, 0],\n",
              " [2023, 0, 0, 0, 0],\n",
              " [2023, 0, 0, 0, 0],\n",
              " [2023, 0, 0, 0, 0],\n",
              " [2023, 0, 0, 0, 0]]"
            ]
          },
          "metadata": {},
          "execution_count": 19
        }
      ]
    },
    {
      "cell_type": "code",
      "source": [
        "M=[[0,0,0,0,0] for i in range(5)]"
      ],
      "metadata": {
        "id": "-mGvM5Y-SZUl"
      },
      "execution_count": null,
      "outputs": []
    },
    {
      "cell_type": "code",
      "source": [
        "M"
      ],
      "metadata": {
        "id": "NlZIv9IuSZXN",
        "outputId": "a0229be4-4c9c-41e9-d5e1-06454060a57f",
        "colab": {
          "base_uri": "https://localhost:8080/"
        }
      },
      "execution_count": null,
      "outputs": [
        {
          "output_type": "execute_result",
          "data": {
            "text/plain": [
              "[[0, 0, 0, 0, 0],\n",
              " [0, 0, 0, 0, 0],\n",
              " [0, 0, 0, 0, 0],\n",
              " [0, 0, 0, 0, 0],\n",
              " [0, 0, 0, 0, 0]]"
            ]
          },
          "metadata": {},
          "execution_count": 21
        }
      ]
    },
    {
      "cell_type": "code",
      "source": [
        "M[0][0]=-1\n",
        "M"
      ],
      "metadata": {
        "id": "C7PZCflaSZZ9",
        "outputId": "be4395b6-4f89-40c2-9a62-c15348163051",
        "colab": {
          "base_uri": "https://localhost:8080/"
        }
      },
      "execution_count": null,
      "outputs": [
        {
          "output_type": "execute_result",
          "data": {
            "text/plain": [
              "[[-1, 0, 0, 0, 0],\n",
              " [0, 0, 0, 0, 0],\n",
              " [0, 0, 0, 0, 0],\n",
              " [0, 0, 0, 0, 0],\n",
              " [0, 0, 0, 0, 0]]"
            ]
          },
          "metadata": {},
          "execution_count": 22
        }
      ]
    },
    {
      "cell_type": "code",
      "source": [
        "def matrice(motcle):\n",
        "  \"\"\"Procedural paradigm\"\"\"\n",
        "  alphabet='ABCDEFGHIJKLMNOPQRSTUVXYZ'\n",
        "  M=[[0,0,0,0,0] for i in range(5)]\n",
        "  i,j=0,0\n",
        "  for pos in range(len(motcle)):\n",
        "    if j==5:\n",
        "      j=0\n",
        "      i+=1\n",
        "    M[i][j]=motcle[pos]\n",
        "    j+=1\n",
        "  for pos in range(len(alphabet)):\n",
        "    if j==5:\n",
        "      j=0\n",
        "      i+=1\n",
        "    if alphabet[pos] not in motcle:\n",
        "      M[i][j]=alphabet[pos]\n",
        "      j+=1\n",
        "  return M"
      ],
      "metadata": {
        "id": "NTFubdXiSZcd"
      },
      "execution_count": null,
      "outputs": []
    },
    {
      "cell_type": "code",
      "source": [
        "matrice('MYSTER')"
      ],
      "metadata": {
        "id": "j3vbhZwQGSnN",
        "outputId": "40661fa3-a28c-45c1-8585-af6b955beed8",
        "colab": {
          "base_uri": "https://localhost:8080/"
        }
      },
      "execution_count": null,
      "outputs": [
        {
          "output_type": "execute_result",
          "data": {
            "text/plain": [
              "[['M', 'Y', 'S', 'T', 'E'],\n",
              " ['R', 'A', 'B', 'C', 'D'],\n",
              " ['F', 'G', 'H', 'I', 'J'],\n",
              " ['K', 'L', 'N', 'O', 'P'],\n",
              " ['Q', 'U', 'V', 'X', 'Z']]"
            ]
          },
          "metadata": {},
          "execution_count": 24
        }
      ]
    },
    {
      "cell_type": "code",
      "source": [
        "L=list('MYSTER')+[ char for char in alphabet if char not in 'MYSTER']\n",
        "M=[[0,0,0,0,0] for i in range(5)]\n",
        "for pos in range(len(L)):\n",
        "  M[pos//5][pos%5]=L[pos]\n",
        "M"
      ],
      "metadata": {
        "colab": {
          "base_uri": "https://localhost:8080/"
        },
        "id": "iPyStV5qKUjK",
        "outputId": "60ff80a4-fc74-4af9-d5c3-7fa102a9188b"
      },
      "execution_count": null,
      "outputs": [
        {
          "output_type": "execute_result",
          "data": {
            "text/plain": [
              "[['M', 'Y', 'S', 'T', 'E'],\n",
              " ['R', 'A', 'B', 'C', 'D'],\n",
              " ['F', 'G', 'H', 'I', 'J'],\n",
              " ['K', 'L', 'N', 'O', 'P'],\n",
              " ['Q', 'U', 'V', 'X', 'Z']]"
            ]
          },
          "metadata": {},
          "execution_count": 25
        }
      ]
    },
    {
      "cell_type": "code",
      "source": [
        "def matrice2(motcle):\n",
        "  alphabet='ABCDEFGHIJKLMNOPQRSTUVXYZ'\n",
        "  L=list(motcle)+[ char for char in alphabet if char not in motcle]\n",
        "  M=[[0,0,0,0,0] for i in range(5)]\n",
        "  for pos in range(len(L)):\n",
        "    M[pos//5][pos%5]=L[pos]\n",
        "  return M\n"
      ],
      "metadata": {
        "id": "J8FsRbPvGSkT"
      },
      "execution_count": null,
      "outputs": []
    },
    {
      "cell_type": "code",
      "source": [
        "matrice2('MYSTER')"
      ],
      "metadata": {
        "id": "d3tyfrmnGShX",
        "colab": {
          "base_uri": "https://localhost:8080/"
        },
        "outputId": "525bdfaf-01e9-4203-f5b5-1ead3d0c9545"
      },
      "execution_count": null,
      "outputs": [
        {
          "output_type": "execute_result",
          "data": {
            "text/plain": [
              "[['M', 'Y', 'S', 'T', 'E'],\n",
              " ['R', 'A', 'B', 'C', 'D'],\n",
              " ['F', 'G', 'H', 'I', 'J'],\n",
              " ['K', 'L', 'N', 'O', 'P'],\n",
              " ['Q', 'U', 'V', 'X', 'Z']]"
            ]
          },
          "metadata": {},
          "execution_count": 27
        }
      ]
    },
    {
      "cell_type": "code",
      "source": [
        "def matrice3(motcle):\n",
        "  alphabet='ABCDEFGHIJKLMNOPQRSTUVXYZ'\n",
        "  L=list(motcle)+[ char for char in alphabet if char not in motcle]\n",
        "  return [[L[5*i+j] for j in range(5)]for i in range(5)]"
      ],
      "metadata": {
        "id": "xBdeseizGSec"
      },
      "execution_count": null,
      "outputs": []
    },
    {
      "cell_type": "code",
      "source": [
        "matrice3('MYSTER')"
      ],
      "metadata": {
        "id": "AOBPzewkGSUe",
        "colab": {
          "base_uri": "https://localhost:8080/"
        },
        "outputId": "14afb578-7aba-48c0-aff9-18ad218a72df"
      },
      "execution_count": 38,
      "outputs": [
        {
          "output_type": "execute_result",
          "data": {
            "text/plain": [
              "[['M', 'Y', 'S', 'T', 'E'],\n",
              " ['R', 'A', 'B', 'C', 'D'],\n",
              " ['F', 'G', 'H', 'I', 'J'],\n",
              " ['K', 'L', 'N', 'O', 'P'],\n",
              " ['Q', 'U', 'V', 'X', 'Z']]"
            ]
          },
          "metadata": {},
          "execution_count": 38
        }
      ]
    },
    {
      "cell_type": "code",
      "source": [
        "def Crypter_Polybe(msg,cle):\n",
        "  M=matrice(cle)\n",
        "  crypte=''\n",
        "  for pos in range(len(msg)):\n",
        "    if msg[pos]=='W':\n",
        "      crypte+='00'\n",
        "    elif msg[pos]==' ':\n",
        "      crypte+='_'\n",
        "    else:\n",
        "      i,j=0,0\n",
        "      while msg[pos]!=M[i][j]:\n",
        "        j+=1\n",
        "        if j==5:\n",
        "          j=0\n",
        "          i+=1\n",
        "      crypte+=str(i+1)+str(j+1)\n",
        "  return crypte"
      ],
      "metadata": {
        "id": "6nsoKJXeMldW"
      },
      "execution_count": null,
      "outputs": []
    },
    {
      "cell_type": "code",
      "execution_count": 39,
      "metadata": {
        "id": "ft3npoYSSKmK",
        "colab": {
          "base_uri": "https://localhost:8080/"
        },
        "outputId": "168af9ca-b23e-49c6-c745-a918d3bf3878"
      },
      "outputs": [
        {
          "output_type": "stream",
          "name": "stdout",
          "text": [
            "2433152124331521_454442122315_25224313_003441344515253422\n"
          ]
        }
      ],
      "source": [
        "cle = \"MYSTER\"\n",
        "msg = \"CHERCHER POLYBE DANS WIKIPEDIA\"\n",
        "crypte = Crypter_Polybe(msg, cle)\n",
        "print(crypte)"
      ]
    },
    {
      "cell_type": "code",
      "source": [
        "def Decrypter_Polybe(msgc,cle):\n",
        "  M=matrice(cle)\n",
        "  msg=''\n",
        "  pos=0\n",
        "  while pos < len(msgc):\n",
        "    if msgc[pos]=='0':\n",
        "      msg+='W'\n",
        "      pos+=2\n",
        "    elif msgc[pos]=='_':\n",
        "      msg+=' '\n",
        "      pos+=1\n",
        "    else:\n",
        "      i=int(msgc[pos])-1\n",
        "      j=int(msgc[pos+1])-1\n",
        "      msg+=M[i][j]\n",
        "      pos+=2\n",
        "  return msg\n"
      ],
      "metadata": {
        "id": "HaeGO2xDZdrg"
      },
      "execution_count": 41,
      "outputs": []
    },
    {
      "cell_type": "code",
      "source": [
        "# decrypter\n",
        "claire = Decrypter_Polybe(crypte, cle)\n",
        "print(claire)"
      ],
      "metadata": {
        "id": "Fg1LcqMFOHnR",
        "colab": {
          "base_uri": "https://localhost:8080/"
        },
        "outputId": "9fa4e5dd-3369-444e-d154-3ce000b30dee"
      },
      "execution_count": 42,
      "outputs": [
        {
          "output_type": "stream",
          "name": "stdout",
          "text": [
            "CHERCHER POLYBE DANS WIKIPEDIA\n"
          ]
        }
      ]
    },
    {
      "cell_type": "code",
      "source": [
        "def Frac(L):\n",
        "  if len(L)==1:\n",
        "    return L[0]\n",
        "  else:\n",
        "    return L[0] +1/Frac(L[1:])"
      ],
      "metadata": {
        "id": "MNgdJ8BLbZ0a"
      },
      "execution_count": 49,
      "outputs": []
    },
    {
      "cell_type": "code",
      "source": [
        "Frac([1])"
      ],
      "metadata": {
        "colab": {
          "base_uri": "https://localhost:8080/"
        },
        "id": "2GeJYd-3jX3z",
        "outputId": "79c375db-c502-4378-fc8f-7a45b4e27334"
      },
      "execution_count": 50,
      "outputs": [
        {
          "output_type": "execute_result",
          "data": {
            "text/plain": [
              "1"
            ]
          },
          "metadata": {},
          "execution_count": 50
        }
      ]
    },
    {
      "cell_type": "code",
      "source": [
        "Frac([2,1,2,3])"
      ],
      "metadata": {
        "colab": {
          "base_uri": "https://localhost:8080/"
        },
        "id": "VEQMkqRVjaD4",
        "outputId": "f65c2d21-7386-4b94-d0e6-377aa65f1771"
      },
      "execution_count": 51,
      "outputs": [
        {
          "output_type": "execute_result",
          "data": {
            "text/plain": [
              "2.7"
            ]
          },
          "metadata": {},
          "execution_count": 51
        }
      ]
    },
    {
      "cell_type": "code",
      "source": [
        "L=[1,3,4,6,1,64,31,23,17,18]\n",
        "# ==> [4,6,64,18,1,3,1,31,23,17]"
      ],
      "metadata": {
        "id": "u7blh_GyjlxT"
      },
      "execution_count": 53,
      "outputs": []
    },
    {
      "cell_type": "code",
      "source": [
        "ch='abcdef'\n",
        "#==> 'a0b0c0d0z0f'"
      ],
      "metadata": {
        "id": "UVUKzrLckc8S"
      },
      "execution_count": 54,
      "outputs": []
    },
    {
      "cell_type": "code",
      "source": [
        "res=[]\n",
        "for i in L:\n",
        "  if i %2==0:\n",
        "    res.append(i)\n",
        "for i in L:\n",
        "  if i %2==1:\n",
        "    res.append(i)\n",
        "res"
      ],
      "metadata": {
        "colab": {
          "base_uri": "https://localhost:8080/"
        },
        "id": "oShifR8Ck_Y8",
        "outputId": "11481649-f7aa-43cb-9eac-077139543e93"
      },
      "execution_count": 56,
      "outputs": [
        {
          "output_type": "execute_result",
          "data": {
            "text/plain": [
              "[4, 6, 64, 18, 1, 3, 1, 31, 23, 17]"
            ]
          },
          "metadata": {},
          "execution_count": 56
        }
      ]
    },
    {
      "cell_type": "code",
      "source": [
        "[ i for i in L if i%2==0] + [ i for i in L if i%2==1]"
      ],
      "metadata": {
        "colab": {
          "base_uri": "https://localhost:8080/"
        },
        "id": "qJVsdRQxlZnq",
        "outputId": "de604999-38bf-48f8-ee0d-27d979ae9580"
      },
      "execution_count": 58,
      "outputs": [
        {
          "output_type": "execute_result",
          "data": {
            "text/plain": [
              "[4, 6, 64, 18, 1, 3, 1, 31, 23, 17]"
            ]
          },
          "metadata": {},
          "execution_count": 58
        }
      ]
    },
    {
      "cell_type": "code",
      "source": [
        "ch='abcdef'\n",
        "#==> 'a0b0c0d0z0f'\n",
        "res=''\n",
        "for i in ch:\n",
        "  if i!=ch[-1]:\n",
        "    res+=i+'0'\n",
        "  else: \n",
        "    res+=ch[-1]\n",
        "res"
      ],
      "metadata": {
        "colab": {
          "base_uri": "https://localhost:8080/",
          "height": 36
        },
        "id": "MGDugJijlyoF",
        "outputId": "4691a6a9-7430-4fb7-f2ec-c150f0ffcbb3"
      },
      "execution_count": 64,
      "outputs": [
        {
          "output_type": "execute_result",
          "data": {
            "text/plain": [
              "'a0b0c0d0e0f'"
            ],
            "application/vnd.google.colaboratory.intrinsic+json": {
              "type": "string"
            }
          },
          "metadata": {},
          "execution_count": 64
        }
      ]
    },
    {
      "cell_type": "code",
      "source": [
        "'0'.join(ch)"
      ],
      "metadata": {
        "colab": {
          "base_uri": "https://localhost:8080/",
          "height": 36
        },
        "id": "b3Avcs3_maNP",
        "outputId": "1ca34512-3486-4322-a9bd-06ba2eb24cbf"
      },
      "execution_count": 68,
      "outputs": [
        {
          "output_type": "execute_result",
          "data": {
            "text/plain": [
              "'a0b0c0d0e0f'"
            ],
            "application/vnd.google.colaboratory.intrinsic+json": {
              "type": "string"
            }
          },
          "metadata": {},
          "execution_count": 68
        }
      ]
    },
    {
      "cell_type": "code",
      "source": [
        "from functools import reduce"
      ],
      "metadata": {
        "id": "cb7fAqE3m_zR"
      },
      "execution_count": 69,
      "outputs": []
    },
    {
      "cell_type": "code",
      "source": [
        "reduce(lambda y,x:y+'0'+x,ch)\n"
      ],
      "metadata": {
        "colab": {
          "base_uri": "https://localhost:8080/",
          "height": 36
        },
        "id": "0R2Ys0hRnYSm",
        "outputId": "288fb47a-a4fc-4df7-a9ea-94c34ca1c98c"
      },
      "execution_count": 75,
      "outputs": [
        {
          "output_type": "execute_result",
          "data": {
            "text/plain": [
              "'a0b0c0d0e0f'"
            ],
            "application/vnd.google.colaboratory.intrinsic+json": {
              "type": "string"
            }
          },
          "metadata": {},
          "execution_count": 75
        }
      ]
    },
    {
      "cell_type": "code",
      "source": [
        "L"
      ],
      "metadata": {
        "colab": {
          "base_uri": "https://localhost:8080/"
        },
        "id": "ZWwUnjS1nnv4",
        "outputId": "21748442-2cde-4bde-f18f-4acdd26127cf"
      },
      "execution_count": 76,
      "outputs": [
        {
          "output_type": "execute_result",
          "data": {
            "text/plain": [
              "[1, 3, 4, 6, 1, 64, 31, 23, 17, 18]"
            ]
          },
          "metadata": {},
          "execution_count": 76
        }
      ]
    },
    {
      "cell_type": "code",
      "source": [
        "reduce(lambda x,y:x +y,L,10)"
      ],
      "metadata": {
        "colab": {
          "base_uri": "https://localhost:8080/"
        },
        "id": "6L5Dk3mjpEz3",
        "outputId": "ca4e9566-2d64-4d2f-8c43-feb26458ee2b"
      },
      "execution_count": 79,
      "outputs": [
        {
          "output_type": "execute_result",
          "data": {
            "text/plain": [
              "178"
            ]
          },
          "metadata": {},
          "execution_count": 79
        }
      ]
    },
    {
      "cell_type": "code",
      "source": [],
      "metadata": {
        "id": "hLvmdp9ZpOj2"
      },
      "execution_count": null,
      "outputs": []
    }
  ],
  "metadata": {
    "kernelspec": {
      "display_name": "Python 3 (ipykernel)",
      "language": "python",
      "name": "python3"
    },
    "language_info": {
      "codemirror_mode": {
        "name": "ipython",
        "version": 3
      },
      "file_extension": ".py",
      "mimetype": "text/x-python",
      "name": "python",
      "nbconvert_exporter": "python",
      "pygments_lexer": "ipython3",
      "version": "3.9.13"
    },
    "colab": {
      "provenance": [],
      "include_colab_link": true
    }
  },
  "nbformat": 4,
  "nbformat_minor": 0
}